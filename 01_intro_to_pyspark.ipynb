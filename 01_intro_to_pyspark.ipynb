{
 "cells": [
  {
   "cell_type": "markdown",
   "id": "97de6c31",
   "metadata": {},
   "source": [
    "# Notebook 1: Intro to PySpark & DataFrames"
   ]
  },
  {
   "cell_type": "code",
   "execution_count": null,
   "id": "cfd7d63f",
   "metadata": {},
   "outputs": [],
   "source": [
    "\n",
    "from pyspark.sql import SparkSession\n",
    "from pyspark.sql.types import StructType, StructField, StringType, IntegerType\n",
    "\n",
    "spark = SparkSession.builder.appName(\"IntroToDataFrames\").getOrCreate()\n",
    "\n",
    "data = [(1, \"Alice\", 28), (2, \"Bob\", 35), (3, \"Charlie\", 30)]\n",
    "schema = StructType([\n",
    "    StructField(\"id\", IntegerType(), True),\n",
    "    StructField(\"name\", StringType(), True),\n",
    "    StructField(\"age\", IntegerType(), True)\n",
    "])\n",
    "\n",
    "df = spark.createDataFrame(data, schema)\n",
    "df.show()\n",
    "df.select(\"name\", \"age\").filter(\"age > 30\").show()\n"
   ]
  }
 ],
 "metadata": {},
 "nbformat": 4,
 "nbformat_minor": 5
}