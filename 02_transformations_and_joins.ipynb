{
 "cells": [
  {
   "cell_type": "markdown",
   "id": "78e7debe",
   "metadata": {},
   "source": [
    "# Notebook 2: Data Transformations & Joins"
   ]
  },
  {
   "cell_type": "code",
   "execution_count": null,
   "id": "e5411dcd",
   "metadata": {},
   "outputs": [],
   "source": [
    "\n",
    "from pyspark.sql import SparkSession\n",
    "\n",
    "spark = SparkSession.builder.appName(\"TransformationsJoins\").getOrCreate()\n",
    "\n",
    "employees = [(1, \"Alice\", 1), (2, \"Bob\", 2), (3, \"Charlie\", 1)]\n",
    "departments = [(1, \"HR\"), (2, \"Engineering\")]\n",
    "\n",
    "emp_df = spark.createDataFrame(employees, [\"emp_id\", \"name\", \"dept_id\"])\n",
    "dept_df = spark.createDataFrame(departments, [\"dept_id\", \"dept_name\"])\n",
    "\n",
    "joined_df = emp_df.join(dept_df, on=\"dept_id\", how=\"inner\")\n",
    "joined_df.show()\n"
   ]
  }
 ],
 "metadata": {},
 "nbformat": 4,
 "nbformat_minor": 5
}